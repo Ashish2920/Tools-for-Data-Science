{
  "nbformat": 4,
  "nbformat_minor": 0,
  "metadata": {
    "colab": {
      "provenance": []
    },
    "kernelspec": {
      "name": "python3",
      "display_name": "Python 3"
    },
    "language_info": {
      "name": "python"
    }
  },
  "cells": [
    {
      "cell_type": "markdown",
      "source": [
        "# Data Science Tools and Ecosystem"
      ],
      "metadata": {
        "id": "gtmDwCssNqa4"
      }
    },
    {
      "cell_type": "markdown",
      "source": [
        "In this notebook, Data Science Tools and Ecosystem are summarized.\n",
        "\n",
        "**Objectives:**\n",
        "\n",
        "*   List popular languages that Data Scientists use.\n",
        "*   List commonly used libraries used by Data Scientists.\n",
        "*   Comment on Data Science tools.\n",
        "\n",
        "\n",
        "\n"
      ],
      "metadata": {
        "id": "LD5vdBVJOQ6a"
      }
    },
    {
      "cell_type": "markdown",
      "source": [
        "Some of the popular languages that Data Scientists use are:\n",
        "<ol>\n",
        "  <li>Python</li>\n",
        "  <li>R</li>\n",
        "  <li>Scala</li>\n",
        "</ol>"
      ],
      "metadata": {
        "id": "PRWI2isyOyRg"
      }
    },
    {
      "cell_type": "markdown",
      "source": [
        "Some of the commonly used libraries used by Data Scientists include:\n",
        "<ol>\n",
        "  <li>Pandas</li>\n",
        "  <li>Numpy</li>\n",
        "  <li>Matplotlib</li>\n",
        "  <li>Keras</li>\n",
        "</ol>"
      ],
      "metadata": {
        "id": "N9_CCHpUPq_l"
      }
    },
    {
      "cell_type": "markdown",
      "source": [
        "| Data Science Tools |\n",
        "| -------------- |\n",
        "| SAS            |\n",
        "| Apache Spark   |\n",
        "| BigML          |\n"
      ],
      "metadata": {
        "id": "J4podlvxRmUI"
      }
    },
    {
      "cell_type": "markdown",
      "source": [
        "# Below are a few examples of evaluating arithmetic expressions in Python\n"
      ],
      "metadata": {
        "id": "VvCjOgX0UhUh"
      }
    },
    {
      "cell_type": "code",
      "source": [
        "# Arithmetic operations\n",
        "code = compile(\"5 + 4\", \"<string>\", \"eval\")\n",
        "eval(code)\n",
        "# Result: 9"
      ],
      "metadata": {
        "colab": {
          "base_uri": "https://localhost:8080/"
        },
        "id": "TWKd4aoFUik_",
        "outputId": "9877b36f-2bc9-489f-adc5-e0406a1bc497"
      },
      "execution_count": 1,
      "outputs": [
        {
          "output_type": "execute_result",
          "data": {
            "text/plain": [
              "9"
            ]
          },
          "metadata": {},
          "execution_count": 1
        }
      ]
    },
    {
      "cell_type": "code",
      "source": [
        "code1 = compile(\"(5 + 7) * 2\", \"<string>\", \"eval\")\n",
        "eval(code1)\n",
        "# Result: 24"
      ],
      "metadata": {
        "colab": {
          "base_uri": "https://localhost:8080/"
        },
        "id": "ViYrd1waUnfM",
        "outputId": "4db64208-2861-4786-d04a-5934b3063f94"
      },
      "execution_count": 2,
      "outputs": [
        {
          "output_type": "execute_result",
          "data": {
            "text/plain": [
              "24"
            ]
          },
          "metadata": {},
          "execution_count": 2
        }
      ]
    },
    {
      "cell_type": "markdown",
      "source": [
        "This a simple arithmetic expression to mutiply then add integers"
      ],
      "metadata": {
        "id": "XeocEXSQVATc"
      }
    },
    {
      "cell_type": "code",
      "source": [
        "(3*4)+5\n",
        "# Result: 17"
      ],
      "metadata": {
        "colab": {
          "base_uri": "https://localhost:8080/"
        },
        "id": "ai70ypOwUv41",
        "outputId": "7278c198-4f93-41ad-92ab-2ae41b6b8016"
      },
      "execution_count": 3,
      "outputs": [
        {
          "output_type": "execute_result",
          "data": {
            "text/plain": [
              "17"
            ]
          },
          "metadata": {},
          "execution_count": 3
        }
      ]
    },
    {
      "cell_type": "markdown",
      "source": [
        "This will convert 200 minutes to hours by diving by 60"
      ],
      "metadata": {
        "id": "xJmtWighVS27"
      }
    },
    {
      "cell_type": "code",
      "source": [
        "days = 0\n",
        "hours = 0\n",
        "mins = 0\n",
        "\n",
        "time = 200\n",
        "#days = time / 1440\n",
        "leftover_minutes = time % 1440\n",
        "hours = leftover_minutes / 60\n",
        "#mins = time - (days*1440) - (hours*60)\n",
        "print(str(days) + \" days, \" + str(hours) + \" hours, \" + str(mins) +  \" mins. \")\n",
        "\n",
        "# Result: 3.3333333333333335 hours"
      ],
      "metadata": {
        "colab": {
          "base_uri": "https://localhost:8080/"
        },
        "id": "k4LVuuCDVDK5",
        "outputId": "1cd665bf-eead-4f5c-e3c9-0bbcf6ce2afe"
      },
      "execution_count": 4,
      "outputs": [
        {
          "output_type": "stream",
          "name": "stdout",
          "text": [
            "0 days, 3.3333333333333335 hours, 0 mins. \n"
          ]
        }
      ]
    },
    {
      "cell_type": "markdown",
      "source": [
        "# Author\n",
        "Ashish Kumar"
      ],
      "metadata": {
        "id": "thwjWyoWXebE"
      }
    },
    {
      "cell_type": "code",
      "source": [],
      "metadata": {
        "id": "5t0z3bKKXouN"
      },
      "execution_count": null,
      "outputs": []
    }
  ]
}